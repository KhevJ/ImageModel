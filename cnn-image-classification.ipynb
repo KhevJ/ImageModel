{
 "cells": [
  {
   "cell_type": "code",
   "execution_count": 1,
   "id": "30369aa8",
   "metadata": {
    "_cell_guid": "b1076dfc-b9ad-4769-8c92-a6c4dae69d19",
    "_uuid": "8f2839f25d086af736a60e9eeb907d3b93b6e0e5",
    "execution": {
     "iopub.execute_input": "2024-10-11T17:13:08.390766Z",
     "iopub.status.busy": "2024-10-11T17:13:08.390287Z",
     "iopub.status.idle": "2024-10-11T17:13:08.396278Z",
     "shell.execute_reply": "2024-10-11T17:13:08.395390Z"
    },
    "papermill": {
     "duration": 0.014184,
     "end_time": "2024-10-11T17:13:08.398660",
     "exception": false,
     "start_time": "2024-10-11T17:13:08.384476",
     "status": "completed"
    },
    "tags": []
   },
   "outputs": [],
   "source": [
    "# import numpy as np \n",
    "# import pandas as pd \n",
    "# # Input data files are available in the read-only \"../input/\" directory\n",
    "# # For example, running this (by clicking run or pressing Shift+Enter) will list all files under the input directory\n",
    "\n",
    "# import os\n",
    "# for dirname, _, filenames in os.walk('/kaggle/input/uc-merced-land-use-dataset/UCMerced_LandUse/Images'):\n",
    "        \n",
    "# #     for filename in filenames:\n",
    "# #         print(os.path.join(dirname, filename))\n",
    "        "
   ]
  },
  {
   "cell_type": "code",
   "execution_count": 2,
   "id": "d29618f6",
   "metadata": {
    "execution": {
     "iopub.execute_input": "2024-10-11T17:13:08.407706Z",
     "iopub.status.busy": "2024-10-11T17:13:08.407257Z",
     "iopub.status.idle": "2024-10-11T17:13:14.731435Z",
     "shell.execute_reply": "2024-10-11T17:13:14.730278Z"
    },
    "papermill": {
     "duration": 6.332022,
     "end_time": "2024-10-11T17:13:14.734513",
     "exception": false,
     "start_time": "2024-10-11T17:13:08.402491",
     "status": "completed"
    },
    "tags": []
   },
   "outputs": [
    {
     "name": "stdout",
     "output_type": "stream",
     "text": [
      "torch.Size([3, 256, 256])\n"
     ]
    }
   ],
   "source": [
    "#Load the image data from the directory\n",
    "import torch\n",
    "import torchvision\n",
    "from torchvision import datasets\n",
    "from torchvision import transforms as T\n",
    "from torch.utils.data import DataLoader, random_split\n",
    "\n",
    "transform = T.Compose([T.Resize((256,256)),\n",
    "                       T.ToTensor(), \n",
    "                       T.Normalize((0.5, 0.5, 0.5), (0.5, 0.5, 0.5))\n",
    "                      ])\n",
    "\n",
    "dataset = datasets.ImageFolder(root='/Users/khevinjugessur/Documents/ENEL525/Project/UCMerced_LandUse/Images', transform=transform)\n",
    "\n",
    "train_dataset, test_dataset = random_split(dataset, [0.8,0.2])\n",
    "\n",
    "train_dl = DataLoader(train_dataset, batch_size=32, shuffle=True)\n",
    "test_dl = DataLoader(test_dataset, batch_size=32, shuffle=True)\n",
    "\n",
    "\n",
    "for img, label in train_dataset:\n",
    "    print(img.shape)\n",
    "    break"
   ]
  },
  {
   "cell_type": "code",
   "execution_count": 3,
   "id": "cd079ce6",
   "metadata": {
    "execution": {
     "iopub.execute_input": "2024-10-11T17:13:14.745013Z",
     "iopub.status.busy": "2024-10-11T17:13:14.744473Z",
     "iopub.status.idle": "2024-10-11T17:13:14.835753Z",
     "shell.execute_reply": "2024-10-11T17:13:14.834531Z"
    },
    "papermill": {
     "duration": 0.099274,
     "end_time": "2024-10-11T17:13:14.838187",
     "exception": false,
     "start_time": "2024-10-11T17:13:14.738913",
     "status": "completed"
    },
    "tags": []
   },
   "outputs": [
    {
     "name": "stdout",
     "output_type": "stream",
     "text": [
      "cpu:0\n"
     ]
    }
   ],
   "source": [
    "if torch.cuda.is_available():\n",
    "    device=torch.device(type=\"cuda\",index=0)\n",
    "else:\n",
    "    device=torch.device(type=\"cpu\",index=0)\n",
    "\n",
    "print(device)"
   ]
  },
  {
   "cell_type": "code",
   "execution_count": 4,
   "id": "30baaa92",
   "metadata": {
    "execution": {
     "iopub.execute_input": "2024-10-11T17:13:14.847917Z",
     "iopub.status.busy": "2024-10-11T17:13:14.846829Z",
     "iopub.status.idle": "2024-10-11T17:13:15.153749Z",
     "shell.execute_reply": "2024-10-11T17:13:15.152532Z"
    },
    "papermill": {
     "duration": 0.31432,
     "end_time": "2024-10-11T17:13:15.156225",
     "exception": false,
     "start_time": "2024-10-11T17:13:14.841905",
     "status": "completed"
    },
    "tags": []
   },
   "outputs": [
    {
     "data": {
      "text/plain": [
       "[tensor([[[[ 0.4902,  0.5529,  0.5922,  ...,  0.0353,  0.0275,  0.0510],\n",
       "           [ 0.5137,  0.5765,  0.5843,  ...,  0.0667,  0.0431,  0.0353],\n",
       "           [ 0.5373,  0.5765,  0.5843,  ...,  0.0588,  0.0510,  0.0275],\n",
       "           ...,\n",
       "           [ 0.6549,  0.6706,  0.0118,  ..., -0.0118,  0.0039,  0.0039],\n",
       "           [ 0.6784,  0.7176,  0.0275,  ..., -0.0196,  0.0275, -0.0039],\n",
       "           [ 0.6941,  0.7333,  0.0118,  ...,  0.0118, -0.0275,  0.0431]],\n",
       " \n",
       "          [[ 0.2471,  0.3255,  0.3647,  ..., -0.1059, -0.1216, -0.1059],\n",
       "           [ 0.2784,  0.3490,  0.3725,  ..., -0.0902, -0.1216, -0.1216],\n",
       "           [ 0.3020,  0.3490,  0.3725,  ..., -0.0980, -0.1059, -0.1216],\n",
       "           ...,\n",
       "           [ 0.5137,  0.4667, -0.1137,  ..., -0.1608, -0.1529, -0.1529],\n",
       "           [ 0.5373,  0.5216, -0.0980,  ..., -0.1686, -0.1294, -0.1608],\n",
       "           [ 0.5608,  0.5451, -0.0980,  ..., -0.1373, -0.1686, -0.1137]],\n",
       " \n",
       "          [[ 0.0353,  0.0980,  0.1294,  ..., -0.2000, -0.2078, -0.1922],\n",
       "           [ 0.0667,  0.1373,  0.1451,  ..., -0.1843, -0.2078, -0.2078],\n",
       "           [ 0.0902,  0.1451,  0.1529,  ..., -0.2078, -0.2000, -0.2157],\n",
       "           ...,\n",
       "           [ 0.4196,  0.4353, -0.1608,  ..., -0.2706, -0.2627, -0.2549],\n",
       "           [ 0.4353,  0.4824, -0.1529,  ..., -0.2706, -0.2314, -0.2706],\n",
       "           [ 0.4353,  0.4902, -0.1843,  ..., -0.2392, -0.2784, -0.2235]]],\n",
       " \n",
       " \n",
       "         [[[ 0.1686,  0.2000,  0.1451,  ...,  0.2706,  0.3255,  0.3647],\n",
       "           [ 0.2000,  0.1765,  0.2000,  ...,  0.2471,  0.3647,  0.3569],\n",
       "           [ 0.1922,  0.2000,  0.1451,  ...,  0.3647,  0.3333,  0.3725],\n",
       "           ...,\n",
       "           [ 0.1059,  0.0431,  0.0039,  ..., -0.4196, -0.3176, -0.3961],\n",
       "           [ 0.0118,  0.0118,  0.1137,  ..., -0.1765, -0.0745, -0.2706],\n",
       "           [ 0.0510,  0.0353,  0.0196,  ..., -0.3569, -0.3098, -0.4039]],\n",
       " \n",
       "          [[ 0.0980,  0.1373,  0.0902,  ...,  0.2627,  0.3176,  0.3176],\n",
       "           [ 0.1373,  0.1137,  0.1373,  ...,  0.2471,  0.3176,  0.3098],\n",
       "           [ 0.1373,  0.1373,  0.0824,  ...,  0.3333,  0.3020,  0.3490],\n",
       "           ...,\n",
       "           [ 0.1294,  0.1137,  0.0980,  ..., -0.4353, -0.3333, -0.4275],\n",
       "           [ 0.0824,  0.0667,  0.1686,  ..., -0.2000, -0.1216, -0.3255],\n",
       "           [ 0.1373,  0.0980,  0.0902,  ..., -0.4118, -0.3725, -0.4667]],\n",
       " \n",
       "          [[-0.0431, -0.0118, -0.0667,  ...,  0.2078,  0.2627,  0.2863],\n",
       "           [-0.0039, -0.0353, -0.0118,  ...,  0.1843,  0.2706,  0.2627],\n",
       "           [-0.0039, -0.0196, -0.0667,  ...,  0.2784,  0.2627,  0.2941],\n",
       "           ...,\n",
       "           [-0.0824, -0.1059, -0.1608,  ..., -0.4745, -0.3961, -0.5137],\n",
       "           [-0.1451, -0.1608, -0.0588,  ..., -0.2392, -0.1765, -0.3961],\n",
       "           [-0.0824, -0.1294, -0.1373,  ..., -0.4431, -0.4275, -0.5216]]],\n",
       " \n",
       " \n",
       "         [[[-0.5765, -0.6078, -0.5843,  ..., -0.4980, -0.4667, -0.4431],\n",
       "           [-0.6078, -0.6314, -0.5843,  ..., -0.4667, -0.4353, -0.4039],\n",
       "           [-0.4824, -0.5451, -0.5608,  ..., -0.4588, -0.4275, -0.4196],\n",
       "           ...,\n",
       "           [-0.7961, -0.7647, -0.7333,  ..., -0.7725, -0.7725, -0.7725],\n",
       "           [-0.8039, -0.7882, -0.7725,  ..., -0.7725, -0.7725, -0.7804],\n",
       "           [-0.8039, -0.7961, -0.7804,  ..., -0.7804, -0.7804, -0.7961]],\n",
       " \n",
       "          [[-0.3882, -0.4353, -0.3961,  ..., -0.3333, -0.2941, -0.2706],\n",
       "           [-0.4118, -0.4431, -0.3882,  ..., -0.3176, -0.2784, -0.2471],\n",
       "           [-0.2941, -0.3647, -0.3882,  ..., -0.2941, -0.2627, -0.2549],\n",
       "           ...,\n",
       "           [-0.5529, -0.5137, -0.4667,  ..., -0.5137, -0.5059, -0.5059],\n",
       "           [-0.5686, -0.5529, -0.5294,  ..., -0.5137, -0.5137, -0.5137],\n",
       "           [-0.5765, -0.5608, -0.5529,  ..., -0.5059, -0.5137, -0.5373]],\n",
       " \n",
       "          [[-0.4824, -0.5216, -0.4824,  ..., -0.4667, -0.4196, -0.3961],\n",
       "           [-0.5216, -0.5373, -0.4902,  ..., -0.4353, -0.3961, -0.3725],\n",
       "           [-0.3882, -0.4667, -0.4902,  ..., -0.3961, -0.3647, -0.3569],\n",
       "           ...,\n",
       "           [-0.5216, -0.4824, -0.4431,  ..., -0.5059, -0.5059, -0.5059],\n",
       "           [-0.5373, -0.5294, -0.5059,  ..., -0.4980, -0.5059, -0.5137],\n",
       "           [-0.5529, -0.5451, -0.5294,  ..., -0.4980, -0.5059, -0.5216]]],\n",
       " \n",
       " \n",
       "         ...,\n",
       " \n",
       " \n",
       "         [[[-0.0510, -0.1608, -0.0824,  ...,  0.4039,  0.4118,  0.4118],\n",
       "           [-0.1216, -0.0667, -0.0196,  ...,  0.4039,  0.4118,  0.4510],\n",
       "           [-0.1294, -0.0902, -0.0275,  ...,  0.3882,  0.4118,  0.4196],\n",
       "           ...,\n",
       "           [-0.1294, -0.0667, -0.0353,  ..., -0.2392, -0.2392, -0.2941],\n",
       "           [-0.1529, -0.0824, -0.1216,  ..., -0.2627, -0.2784, -0.2157],\n",
       "           [-0.2235, -0.0980, -0.0510,  ..., -0.2549, -0.2627, -0.1451]],\n",
       " \n",
       "          [[-0.1216, -0.2314, -0.1686,  ...,  0.3882,  0.3961,  0.3804],\n",
       "           [-0.1765, -0.1373, -0.0980,  ...,  0.3725,  0.3804,  0.3961],\n",
       "           [-0.1843, -0.1608, -0.1137,  ...,  0.3333,  0.3569,  0.3569],\n",
       "           ...,\n",
       "           [-0.2000, -0.1765, -0.1451,  ..., -0.2157, -0.2314, -0.3176],\n",
       "           [-0.2235, -0.1608, -0.2314,  ..., -0.2549, -0.2784, -0.2471],\n",
       "           [-0.2784, -0.1843, -0.1608,  ..., -0.2627, -0.2863, -0.1843]],\n",
       " \n",
       "          [[-0.1765, -0.2863, -0.2000,  ...,  0.2863,  0.2941,  0.2863],\n",
       "           [-0.2392, -0.1922, -0.1373,  ...,  0.2863,  0.2941,  0.3176],\n",
       "           [-0.2471, -0.2000, -0.1451,  ...,  0.2549,  0.2784,  0.2784],\n",
       "           ...,\n",
       "           [-0.2392, -0.2000, -0.1686,  ..., -0.2706, -0.2941, -0.3725],\n",
       "           [-0.2627, -0.1922, -0.2549,  ..., -0.3020, -0.3412, -0.2941],\n",
       "           [-0.3255, -0.2157, -0.1843,  ..., -0.3020, -0.3255, -0.2157]]],\n",
       " \n",
       " \n",
       "         [[[ 0.0510,  0.0824,  0.0902,  ...,  0.5608,  0.5765,  0.5843],\n",
       "           [ 0.0667,  0.0745,  0.0824,  ...,  0.5922,  0.5843,  0.5922],\n",
       "           [ 0.0824,  0.0588,  0.0745,  ...,  0.5765,  0.5843,  0.5843],\n",
       "           ...,\n",
       "           [ 0.3412,  0.3647,  0.3333,  ...,  0.2941,  0.3098,  0.2314],\n",
       "           [ 0.3490,  0.3176,  0.2863,  ...,  0.2627,  0.2863,  0.2471],\n",
       "           [ 0.3412,  0.2941,  0.5608,  ...,  0.2392,  0.1765,  0.1451]],\n",
       " \n",
       "          [[-0.0980, -0.0745, -0.0667,  ...,  0.4275,  0.4196,  0.4118],\n",
       "           [-0.0902, -0.0824, -0.0745,  ...,  0.4431,  0.4275,  0.4275],\n",
       "           [-0.0745, -0.0980, -0.0824,  ...,  0.4196,  0.4196,  0.4196],\n",
       "           ...,\n",
       "           [ 0.2235,  0.2392,  0.2157,  ...,  0.2000,  0.2157,  0.1451],\n",
       "           [ 0.2235,  0.1922,  0.1529,  ...,  0.1843,  0.2078,  0.1608],\n",
       "           [ 0.2157,  0.1608,  0.4039,  ...,  0.1608,  0.0980,  0.0588]],\n",
       " \n",
       "          [[-0.2157, -0.2000, -0.1843,  ...,  0.2392,  0.2471,  0.2471],\n",
       "           [-0.2157, -0.2000, -0.1843,  ...,  0.2627,  0.2549,  0.2627],\n",
       "           [-0.2000, -0.2157, -0.2000,  ...,  0.2471,  0.2549,  0.2471],\n",
       "           ...,\n",
       "           [ 0.0667,  0.0824,  0.0510,  ...,  0.0745,  0.0902,  0.0196],\n",
       "           [ 0.0824,  0.0353, -0.0196,  ...,  0.0510,  0.0745,  0.0510],\n",
       "           [ 0.0824,  0.0039,  0.2392,  ...,  0.0275, -0.0353, -0.0588]]],\n",
       " \n",
       " \n",
       "         [[[-0.4667, -0.4118, -0.4353,  ..., -0.1608, -0.1608, -0.1686],\n",
       "           [-0.4275, -0.4353, -0.4196,  ..., -0.1843, -0.1922, -0.2000],\n",
       "           [-0.3882, -0.4118, -0.4510,  ..., -0.2000, -0.2078, -0.2235],\n",
       "           ...,\n",
       "           [ 0.0902,  0.0980,  0.1137,  ...,  0.7882,  0.8118,  0.8510],\n",
       "           [ 0.1216,  0.1059,  0.0745,  ...,  0.8196,  0.8275,  0.8824],\n",
       "           [ 0.0980,  0.0980,  0.1137,  ...,  0.8431,  0.8510,  0.8824]],\n",
       " \n",
       "          [[-0.3412, -0.3098, -0.3569,  ..., -0.2392, -0.2392, -0.2392],\n",
       "           [-0.3333, -0.3490, -0.3176,  ..., -0.2314, -0.2392, -0.2392],\n",
       "           [-0.3176, -0.3725, -0.3961,  ..., -0.2157, -0.2235, -0.2314],\n",
       "           ...,\n",
       "           [ 0.0980,  0.1059,  0.1216,  ...,  0.8196,  0.8431,  0.8588],\n",
       "           [ 0.1373,  0.1137,  0.0824,  ...,  0.8510,  0.8588,  0.8824],\n",
       "           [ 0.1137,  0.1137,  0.1216,  ...,  0.8745,  0.8824,  0.8824]],\n",
       " \n",
       "          [[-0.3412, -0.2627, -0.2863,  ..., -0.2549, -0.2471, -0.2314],\n",
       "           [-0.3333, -0.3020, -0.2549,  ..., -0.2314, -0.2235, -0.2078],\n",
       "           [-0.3255, -0.3255, -0.3176,  ..., -0.1922, -0.1843, -0.1843],\n",
       "           ...,\n",
       "           [ 0.0588,  0.0667,  0.0824,  ...,  0.8431,  0.8510,  0.8745],\n",
       "           [ 0.0980,  0.0745,  0.0431,  ...,  0.8745,  0.8667,  0.8980],\n",
       "           [ 0.0745,  0.0745,  0.0824,  ...,  0.8824,  0.8902,  0.8980]]]]),\n",
       " tensor([19,  2, 10, 17,  9,  9, 16, 14, 15,  4, 18, 17,  6,  2,  2,  6, 12, 18,\n",
       "          8,  1,  6, 13,  3, 15, 15, 19, 13, 17, 12, 14,  1, 15])]"
      ]
     },
     "execution_count": 4,
     "metadata": {},
     "output_type": "execute_result"
    }
   ],
   "source": [
    "next(iter(train_dl))"
   ]
  },
  {
   "cell_type": "code",
   "execution_count": 5,
   "id": "b772843a",
   "metadata": {
    "execution": {
     "iopub.execute_input": "2024-10-11T17:13:15.166911Z",
     "iopub.status.busy": "2024-10-11T17:13:15.165904Z",
     "iopub.status.idle": "2024-10-11T17:13:15.182158Z",
     "shell.execute_reply": "2024-10-11T17:13:15.181019Z"
    },
    "papermill": {
     "duration": 0.024314,
     "end_time": "2024-10-11T17:13:15.184803",
     "exception": false,
     "start_time": "2024-10-11T17:13:15.160489",
     "status": "completed"
    },
    "tags": []
   },
   "outputs": [],
   "source": [
    "import torch.nn as nn\n",
    "\n",
    "class DRNN(nn.Module):\n",
    "    def __init__(self):\n",
    "        super().__init__()\n",
    "        self.relu=nn.ReLU()\n",
    "        self.conv1=nn.Conv2d(3, 8, kernel_size=(3,3), stride=1, padding=0)\n",
    "        self.bn1=nn.BatchNorm2d(8)\n",
    "        self.mp1=nn.MaxPool2d(kernel_size=(2,2),stride=2,padding=0)\n",
    "\n",
    "        self.conv2=nn.Conv2d(8, 16, kernel_size=(3,3), stride=1, padding=0)\n",
    "        self.bn2=nn.BatchNorm2d(16)\n",
    "\n",
    "        self.conv3=nn.Conv2d(16, 32, kernel_size=(3,3), stride=1, padding=0)\n",
    "        self.bn3=nn.BatchNorm2d(32)\n",
    "\n",
    "        self.conv4=nn.Conv2d(16, 16, kernel_size=(3,3), stride=1, padding=0)\n",
    "        self.bn4=nn.BatchNorm2d(16)\n",
    "        \n",
    "\n",
    "        self.flatten=nn.Flatten()\n",
    "        \n",
    "        #UC Merced has img size 256x256\n",
    "        self.lin1=nn.Linear(in_features=61504, out_features=21)\n",
    "        self.bn5=nn.BatchNorm1d(num_features=21)\n",
    "\n",
    "    def forward(self,x):\n",
    "        x=self.conv1(x) #3 -> 8, 254x254x8\n",
    "        x=self.relu(self.bn1(x))\n",
    "        x=self.conv2(x)#8 -> 16 252x252x16\n",
    "        x=self.relu(self.bn2(x))\n",
    "        x=self.mp1(x)# 126x126x16\n",
    "        x=self.conv4(x)#16->16 126x126x16\n",
    "        x=self.relu(self.bn4(x))\n",
    "        x=self.mp1(x)#63x63x16\n",
    "        x=self.relu(x)\n",
    "        \n",
    "        x=self.flatten(x)\n",
    "        x=self.lin1(x)\n",
    "        output=self.bn5(x)\n",
    "        \n",
    "        return output\n",
    "\n"
   ]
  },
  {
   "cell_type": "code",
   "execution_count": 6,
   "id": "49935ff4",
   "metadata": {
    "execution": {
     "iopub.execute_input": "2024-10-11T17:13:15.197286Z",
     "iopub.status.busy": "2024-10-11T17:13:15.196462Z",
     "iopub.status.idle": "2024-10-11T17:13:15.209095Z",
     "shell.execute_reply": "2024-10-11T17:13:15.208005Z"
    },
    "papermill": {
     "duration": 0.021381,
     "end_time": "2024-10-11T17:13:15.211536",
     "exception": false,
     "start_time": "2024-10-11T17:13:15.190155",
     "status": "completed"
    },
    "tags": []
   },
   "outputs": [],
   "source": [
    "batch_size=32\n",
    "def train_one_epoch(dataloader, model,loss_fn, optimizer):\n",
    "    model.train()\n",
    "    track_loss=0\n",
    "    num_correct=0\n",
    "    for i, (imgs, labels) in enumerate(dataloader):\n",
    "        imgs=imgs.to(device)\n",
    "        labels=labels.to(device)\n",
    "        pred=model(imgs)\n",
    "\n",
    "        loss=loss_fn(pred,labels)\n",
    "        track_loss+=loss.item()\n",
    "        num_correct+=(torch.argmax(pred,dim=1)==labels).type(torch.float).sum().item()\n",
    "\n",
    "        running_loss=round(track_loss/(i+(imgs.shape[0]/batch_size)),2)\n",
    "        running_acc=round((num_correct/((i*batch_size+imgs.shape[0])))*100,2)\n",
    "\n",
    "        loss.backward()\n",
    "        optimizer.step()\n",
    "        optimizer.zero_grad()\n",
    "\n",
    "        if i%100==0:\n",
    "            print(\"Batch:\", i+1, \"/\",len(dataloader), \"Running Loss:\",running_loss, \"Running Accuracy:\",running_acc)\n",
    "\n",
    "    epoch_loss=running_loss\n",
    "    epoch_acc=running_acc\n",
    "    return epoch_loss, epoch_acc\n",
    "\n",
    "def eval(dataloader, model,loss_fn, path):\n",
    "    model.eval()\n",
    "    with torch.no_grad():\n",
    "        for i, imgs in enumerate(dataloader):\n",
    "            imgs=imgs.to(device)\n",
    "            pred=model(imgs)\n",
    "\n",
    "            pred=torch.argmax(pred,dim=1).type(torch.int).cpu()\n",
    "            print(pred)\n"
   ]
  },
  {
   "cell_type": "code",
   "execution_count": 7,
   "id": "2d8427df",
   "metadata": {
    "execution": {
     "iopub.execute_input": "2024-10-11T17:13:15.224259Z",
     "iopub.status.busy": "2024-10-11T17:13:15.223195Z",
     "iopub.status.idle": "2024-10-11T17:14:26.436585Z",
     "shell.execute_reply": "2024-10-11T17:14:26.435435Z"
    },
    "papermill": {
     "duration": 71.222315,
     "end_time": "2024-10-11T17:14:26.439259",
     "exception": false,
     "start_time": "2024-10-11T17:13:15.216944",
     "status": "completed"
    },
    "tags": []
   },
   "outputs": [
    {
     "name": "stdout",
     "output_type": "stream",
     "text": [
      "Epoch No: 1\n",
      "Batch: 1 / 53 Running Loss: 3.51 Running Accuracy: 6.25\n",
      "Training: Epoch Loss: 2.5 Epoch Accuracy: 29.17\n",
      "--------------------------------------------------\n",
      "Epoch No: 2\n",
      "Batch: 1 / 53 Running Loss: 1.95 Running Accuracy: 50.0\n",
      "Training: Epoch Loss: 1.63 Epoch Accuracy: 65.83\n",
      "--------------------------------------------------\n",
      "Epoch No: 3\n",
      "Batch: 1 / 53 Running Loss: 0.95 Running Accuracy: 93.75\n",
      "Training: Epoch Loss: 1.01 Epoch Accuracy: 86.79\n",
      "--------------------------------------------------\n",
      "Epoch No: 4\n",
      "Batch: 1 / 53 Running Loss: 0.77 Running Accuracy: 90.62\n",
      "Training: Epoch Loss: 0.7 Epoch Accuracy: 94.58\n",
      "--------------------------------------------------\n",
      "Epoch No: 5\n",
      "Batch: 1 / 53 Running Loss: 0.63 Running Accuracy: 96.88\n",
      "Training: Epoch Loss: 0.55 Epoch Accuracy: 96.67\n",
      "--------------------------------------------------\n",
      "Epoch No: 6\n",
      "Batch: 1 / 53 Running Loss: 0.46 Running Accuracy: 96.88\n",
      "Training: Epoch Loss: 0.48 Epoch Accuracy: 97.8\n",
      "--------------------------------------------------\n",
      "Epoch No: 7\n",
      "Batch: 1 / 53 Running Loss: 0.5 Running Accuracy: 96.88\n",
      "Training: Epoch Loss: 0.42 Epoch Accuracy: 98.33\n",
      "--------------------------------------------------\n",
      "Epoch No: 8\n",
      "Batch: 1 / 53 Running Loss: 0.37 Running Accuracy: 96.88\n",
      "Training: Epoch Loss: 0.4 Epoch Accuracy: 98.75\n",
      "--------------------------------------------------\n",
      "Epoch No: 9\n",
      "Batch: 1 / 53 Running Loss: 0.32 Running Accuracy: 100.0\n",
      "Training: Epoch Loss: 0.38 Epoch Accuracy: 98.63\n",
      "--------------------------------------------------\n",
      "Epoch No: 10\n",
      "Batch: 1 / 53 Running Loss: 0.32 Running Accuracy: 100.0\n",
      "Training: Epoch Loss: 0.36 Epoch Accuracy: 98.51\n",
      "--------------------------------------------------\n"
     ]
    }
   ],
   "source": [
    "model=DRNN()\n",
    "model=model.to(device)\n",
    "loss_fn=nn.CrossEntropyLoss()\n",
    "lr=0.001\n",
    "#optimizer=torch.optim.SGD(params=model.parameters(), lr=lr)\n",
    "optimizer=torch.optim.Adam(params=model.parameters(), lr=lr)\n",
    "n_epochs=10\n",
    "\n",
    "for i in range(n_epochs):\n",
    "    print(\"Epoch No:\",i+1)\n",
    "    train_epoch_loss, train_epoch_acc=train_one_epoch(train_dl,model,loss_fn,optimizer)\n",
    "    print(\"Training:\", \"Epoch Loss:\", train_epoch_loss, \"Epoch Accuracy:\", train_epoch_acc)\n",
    "    print(\"--------------------------------------------------\")\n"
   ]
  },
  {
   "cell_type": "code",
   "execution_count": 8,
   "id": "0971a9b9",
   "metadata": {},
   "outputs": [
    {
     "name": "stdout",
     "output_type": "stream",
     "text": [
      "Test Loss: 2.0772, Test Accuracy: 42.62%\n"
     ]
    }
   ],
   "source": [
    "def evaluate_model(test_dl, model, loss_fn):\n",
    "    model.eval()  # Set the model to evaluation mode\n",
    "    test_loss = 0.0\n",
    "    correct_predictions = 0\n",
    "    total_samples = 0\n",
    "\n",
    "    with torch.no_grad():  # Disable gradient calculations for evaluation\n",
    "        for inputs, labels in test_dl:\n",
    "            inputs, labels = inputs.to(device), labels.to(device)  # Move data to the appropriate device\n",
    "            outputs = model(inputs)\n",
    "            \n",
    "            # Compute loss\n",
    "            loss = loss_fn(outputs, labels)\n",
    "            test_loss += loss.item()\n",
    "            \n",
    "            # Get predictions\n",
    "            _, preds = torch.max(outputs, 1)\n",
    "            correct_predictions += (preds == labels).sum().item()\n",
    "            total_samples += labels.size(0)\n",
    "    \n",
    "    # Calculate average loss and accuracy\n",
    "    avg_loss = test_loss / len(test_dl)\n",
    "    accuracy = correct_predictions / total_samples * 100  # Accuracy in percentage\n",
    "    \n",
    "    return avg_loss, accuracy\n",
    "\n",
    "# Evaluate the model on the test dataset\n",
    "test_loss, test_accuracy = evaluate_model(test_dl, model, loss_fn)\n",
    "print(f\"Test Loss: {test_loss:.4f}, Test Accuracy: {test_accuracy:.2f}%\")\n"
   ]
  }
 ],
 "metadata": {
  "kaggle": {
   "accelerator": "nvidiaTeslaT4",
   "dataSources": [
    {
     "datasetId": 4270562,
     "sourceId": 7353419,
     "sourceType": "datasetVersion"
    }
   ],
   "dockerImageVersionId": 30787,
   "isGpuEnabled": true,
   "isInternetEnabled": true,
   "language": "python",
   "sourceType": "notebook"
  },
  "kernelspec": {
   "display_name": "Python 3",
   "language": "python",
   "name": "python3"
  },
  "language_info": {
   "codemirror_mode": {
    "name": "ipython",
    "version": 3
   },
   "file_extension": ".py",
   "mimetype": "text/x-python",
   "name": "python",
   "nbconvert_exporter": "python",
   "pygments_lexer": "ipython3",
   "version": "3.11.5"
  },
  "papermill": {
   "default_parameters": {},
   "duration": 82.800715,
   "end_time": "2024-10-11T17:14:27.968731",
   "environment_variables": {},
   "exception": null,
   "input_path": "__notebook__.ipynb",
   "output_path": "__notebook__.ipynb",
   "parameters": {},
   "start_time": "2024-10-11T17:13:05.168016",
   "version": "2.6.0"
  }
 },
 "nbformat": 4,
 "nbformat_minor": 5
}
